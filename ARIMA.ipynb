{
  "nbformat": 4,
  "nbformat_minor": 0,
  "metadata": {
    "colab": {
      "name": "ARIMA.ipynb",
      "provenance": [],
      "collapsed_sections": [],
      "toc_visible": true
    },
    "kernelspec": {
      "name": "python3",
      "display_name": "Python 3"
    }
  },
  "cells": [
    {
      "cell_type": "markdown",
      "metadata": {
        "id": "F-z6y1lQ5E2M"
      },
      "source": [
        "# Task One: Time Series and Explanatory Data Analysis"
      ]
    },
    {
      "cell_type": "markdown",
      "metadata": {
        "id": "6aT2Uuja9TQV"
      },
      "source": [
        "__Data and Dataset__:\r\n",
        "\r\n",
        "* Shampoo Sales Dataset : monthly number of sales of shampoo over a 3 year period.\r\n",
        "* Minimum Daily Temperatures Dataset : minimum daily temperatures over 10 years (1981-1990) in the city Melbourne, Australia.\r\n",
        "* Monthly Sunspot Dataset : monthly count of the number of observed sunspots for just over 230 years (1749-1983)."
      ]
    },
    {
      "cell_type": "code",
      "metadata": {
        "id": "ccJXzd7U7WJP"
      },
      "source": [
        ""
      ],
      "execution_count": null,
      "outputs": []
    },
    {
      "cell_type": "code",
      "metadata": {
        "id": "UN6CcBz57WRf"
      },
      "source": [
        ""
      ],
      "execution_count": null,
      "outputs": []
    },
    {
      "cell_type": "code",
      "metadata": {
        "id": "JGA1zq_H7WZJ"
      },
      "source": [
        ""
      ],
      "execution_count": null,
      "outputs": []
    },
    {
      "cell_type": "code",
      "metadata": {
        "id": "HA6bNUm57XaV"
      },
      "source": [
        ""
      ],
      "execution_count": null,
      "outputs": []
    },
    {
      "cell_type": "markdown",
      "metadata": {
        "id": "1fmHx9Q19Hny"
      },
      "source": [
        "__SARIMA(p, d, q)(P, D, Q, s):__"
      ]
    },
    {
      "cell_type": "markdown",
      "metadata": {
        "id": "HqgJ1KcY980r"
      },
      "source": [
        "* __Autoregression - AR(p):__\n",
        "Y = B0 + B1*Y_lag1 + B2*Y_lag2 + ... + Bn*Y_lagn"
      ]
    },
    {
      "cell_type": "markdown",
      "metadata": {
        "id": "wfVy_1BT-7-C"
      },
      "source": [
        "* __Moving Average - MA(q):__ Y = B0 + B1*E_lag1 + B2*E_lag2 + ... + Bn*E_lagn"
      ]
    },
    {
      "cell_type": "markdown",
      "metadata": {
        "id": "UhrDDV70-iXi"
      },
      "source": [
        "* __Integrated - (d)__: Y_forward1 - Y = B0 + B1*(Y - Y_lag1) + B2*(Y_lag1 - Y_lag2) +.."
      ]
    },
    {
      "cell_type": "markdown",
      "metadata": {
        "id": "hPWVXxuYFTCS"
      },
      "source": [
        "__Example: ARMA(1,0,1)__\r\n",
        "\r\n",
        "yt = 0.5 * yt −1 + 0.2 * ϵt−1 + ϵt"
      ]
    },
    {
      "cell_type": "code",
      "metadata": {
        "id": "gSTbJvyg7Zl7"
      },
      "source": [
        ""
      ],
      "execution_count": null,
      "outputs": []
    },
    {
      "cell_type": "code",
      "metadata": {
        "id": "E60fiOAp7ZwF"
      },
      "source": [
        ""
      ],
      "execution_count": null,
      "outputs": []
    },
    {
      "cell_type": "code",
      "metadata": {
        "id": "Voiqc-_j7Z-v"
      },
      "source": [
        ""
      ],
      "execution_count": null,
      "outputs": []
    },
    {
      "cell_type": "markdown",
      "metadata": {
        "id": "jS06euiL5PGB"
      },
      "source": [
        "# Task Two: Stationarity and ADF Test"
      ]
    },
    {
      "cell_type": "markdown",
      "metadata": {
        "id": "1v0vWvVq_gTc"
      },
      "source": [
        "\r\n",
        "- Time Series is said to be stationary if its statistical properties such as mean, variance remain constant over time \r\n",
        "- ADF : The augmented Dicky-Fuller test:\r\n",
        "\r\n",
        " Null Hypothesis: Series is not stationary\r\n",
        "\r\n",
        " Alternate Hypothesis: Series is stationary"
      ]
    },
    {
      "cell_type": "code",
      "metadata": {
        "id": "y-a6tmPi7c8M"
      },
      "source": [
        ""
      ],
      "execution_count": null,
      "outputs": []
    },
    {
      "cell_type": "code",
      "metadata": {
        "id": "BkA4fxdU7dEf"
      },
      "source": [
        ""
      ],
      "execution_count": null,
      "outputs": []
    },
    {
      "cell_type": "code",
      "metadata": {
        "id": "tiz49pdN7dPU"
      },
      "source": [
        ""
      ],
      "execution_count": null,
      "outputs": []
    },
    {
      "cell_type": "markdown",
      "metadata": {
        "id": "MRwWnFg1ADRZ"
      },
      "source": [
        "__Result:__ \r\n",
        "\r\n",
        "* 0th element is test statistic ,more negative means more likely to be stationary\r\n",
        "\r\n",
        "* 1st element is p-value\r\n",
        "If p-value is small→reject null hypothesis. Reject non-stationary.\r\n",
        "\r\n",
        "* 2nd lags used\r\n",
        "\r\n",
        "* 3d num of observations\r\n",
        "\r\n",
        "* 4th element is the critical test statistics"
      ]
    },
    {
      "cell_type": "markdown",
      "metadata": {
        "id": "oAvEgDmMAtcQ"
      },
      "source": [
        "__Making a time series stationary:__\r\n",
        "Taking the difference Δyt = yt − yt−1"
      ]
    },
    {
      "cell_type": "code",
      "metadata": {
        "id": "lPMLlKIOMRLL"
      },
      "source": [
        "#df_stationary = df.diff()"
      ],
      "execution_count": null,
      "outputs": []
    },
    {
      "cell_type": "code",
      "metadata": {
        "id": "KlOodumidVTn"
      },
      "source": [
        "#df_stationary = df.diff().dropna()"
      ],
      "execution_count": null,
      "outputs": []
    },
    {
      "cell_type": "markdown",
      "metadata": {
        "id": "iDRKaIbPBLmd"
      },
      "source": [
        "__Examples of other transforms:__\r\n",
        "\r\n",
        "Take the log\r\n",
        "np.log(df)\r\n",
        "\r\n",
        "Take the square root\r\n",
        "np.sqrt(df)\r\n",
        "\r\n",
        "Take the proportional change\r\n",
        "df.shift(1)/df"
      ]
    },
    {
      "cell_type": "markdown",
      "metadata": {
        "id": "EGYoWiNQ5S9m"
      },
      "source": [
        "# Task Three: Autocorrelation, ACF and PACF\r\n"
      ]
    },
    {
      "cell_type": "markdown",
      "metadata": {
        "id": "5_7-4yyIFXlY"
      },
      "source": [
        "__ACF:__ Autocorrelation Function\r\n",
        "\r\n",
        "__PACF:__  Partial autocorrelation function"
      ]
    },
    {
      "cell_type": "code",
      "metadata": {
        "id": "VkgxArfLFwME"
      },
      "source": [
        ""
      ],
      "execution_count": null,
      "outputs": []
    },
    {
      "cell_type": "code",
      "metadata": {
        "id": "glYw2_vaGAIq"
      },
      "source": [
        ""
      ],
      "execution_count": null,
      "outputs": []
    },
    {
      "cell_type": "code",
      "metadata": {
        "id": "2Virl3NWGAfM"
      },
      "source": [
        ""
      ],
      "execution_count": null,
      "outputs": []
    },
    {
      "cell_type": "markdown",
      "metadata": {
        "id": "oR8FjJup5Wy3"
      },
      "source": [
        "# Task Four: ARIMA Model"
      ]
    },
    {
      "cell_type": "code",
      "metadata": {
        "id": "MkAWAgte7okE"
      },
      "source": [
        ""
      ],
      "execution_count": null,
      "outputs": []
    },
    {
      "cell_type": "code",
      "metadata": {
        "id": "sTpd4LsM7orY"
      },
      "source": [
        ""
      ],
      "execution_count": null,
      "outputs": []
    },
    {
      "cell_type": "code",
      "metadata": {
        "id": "TdXivKdS7owL"
      },
      "source": [
        ""
      ],
      "execution_count": null,
      "outputs": []
    },
    {
      "cell_type": "code",
      "metadata": {
        "id": "I4xq1aoi7ozd"
      },
      "source": [
        ""
      ],
      "execution_count": null,
      "outputs": []
    },
    {
      "cell_type": "code",
      "metadata": {
        "id": "u_PwYxRH7o3d"
      },
      "source": [
        ""
      ],
      "execution_count": null,
      "outputs": []
    },
    {
      "cell_type": "code",
      "metadata": {
        "id": "xhTHPtsc7o8S"
      },
      "source": [
        ""
      ],
      "execution_count": null,
      "outputs": []
    },
    {
      "cell_type": "code",
      "metadata": {
        "id": "GXkVBLt_7o-p"
      },
      "source": [
        ""
      ],
      "execution_count": null,
      "outputs": []
    },
    {
      "cell_type": "markdown",
      "metadata": {
        "id": "20IxKlqqFxIC"
      },
      "source": [
        "__AIC - Akaike information criterion__\r\n",
        "\r\n",
        "Lower AIC indicates a better model\r\n",
        "\r\n",
        "AIC likes to choose simple models with lower order"
      ]
    },
    {
      "cell_type": "markdown",
      "metadata": {
        "id": "zCDczuFeF2Z4"
      },
      "source": [
        "__BIC - Bayesian information criterion__\r\n",
        "\r\n",
        "\r\n",
        "Lower BIC indicates a better model\r\n",
        "\r\n",
        "BIC likes to choose simple models with lower order"
      ]
    },
    {
      "cell_type": "code",
      "metadata": {
        "id": "__XH0XnT5Zog"
      },
      "source": [
        "import matplotlib as mpl\r\n",
        "\r\n",
        "mpl.rcParams['figure.figsize'] = (18, 7)\r\n",
        "mpl.rcParams['axes.grid'] = False\r\n",
        "\r\n",
        "# plot\r\n",
        "plt.plot(Test,color='black',linewidth=1)\r\n",
        "plt.plot(lower_list,color='red',linewidth=1)\r\n",
        "plt.plot(upper_list,color='green',linewidth=1)\r\n",
        "plt.plot(predictions,linewidth=1)\r\n",
        "plt.show()"
      ],
      "execution_count": null,
      "outputs": []
    },
    {
      "cell_type": "code",
      "metadata": {
        "id": "Lh-s1uUQ5Z2J"
      },
      "source": [
        ""
      ],
      "execution_count": null,
      "outputs": []
    },
    {
      "cell_type": "markdown",
      "metadata": {
        "id": "jSAVIWYd5aKm"
      },
      "source": [
        "# Task Five: ARIMA Automation"
      ]
    },
    {
      "cell_type": "code",
      "metadata": {
        "id": "iefaVmiiG9be"
      },
      "source": [
        ""
      ],
      "execution_count": null,
      "outputs": []
    },
    {
      "cell_type": "code",
      "metadata": {
        "id": "PIpcwOzl74MA"
      },
      "source": [
        ""
      ],
      "execution_count": null,
      "outputs": []
    },
    {
      "cell_type": "code",
      "metadata": {
        "id": "o8jPR48j74Vb"
      },
      "source": [
        ""
      ],
      "execution_count": null,
      "outputs": []
    }
  ]
}