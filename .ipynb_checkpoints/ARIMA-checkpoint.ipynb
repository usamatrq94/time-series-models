{
 "cells": [
  {
   "cell_type": "markdown",
   "metadata": {
    "id": "F-z6y1lQ5E2M"
   },
   "source": [
    "# Task One: Time Series and Explanatory Data Analysis"
   ]
  },
  {
   "cell_type": "markdown",
   "metadata": {
    "id": "6aT2Uuja9TQV"
   },
   "source": [
    "__Data and Dataset__:\n",
    "\n",
    "* Shampoo Sales Dataset : monthly number of sales of shampoo over a 3 year period.\n",
    "* Minimum Daily Temperatures Dataset : minimum daily temperatures over 10 years (1981-1990) in the city Melbourne, Australia.\n",
    "* Monthly Sunspot Dataset : monthly count of the number of observed sunspots for just over 230 years (1749-1983)."
   ]
  },
  {
   "cell_type": "code",
   "execution_count": 1,
   "metadata": {
    "id": "ccJXzd7U7WJP"
   },
   "outputs": [],
   "source": [
    "import pandas as pd"
   ]
  },
  {
   "cell_type": "code",
   "execution_count": 5,
   "metadata": {
    "id": "UN6CcBz57WRf"
   },
   "outputs": [],
   "source": [
    "sunspot = pd.read_csv('Sunspots.csv', index_col=0)"
   ]
  },
  {
   "cell_type": "code",
   "execution_count": 6,
   "metadata": {
    "id": "JGA1zq_H7WZJ"
   },
   "outputs": [
    {
     "data": {
      "text/html": [
       "<div>\n",
       "<style scoped>\n",
       "    .dataframe tbody tr th:only-of-type {\n",
       "        vertical-align: middle;\n",
       "    }\n",
       "\n",
       "    .dataframe tbody tr th {\n",
       "        vertical-align: top;\n",
       "    }\n",
       "\n",
       "    .dataframe thead th {\n",
       "        text-align: right;\n",
       "    }\n",
       "</style>\n",
       "<table border=\"1\" class=\"dataframe\">\n",
       "  <thead>\n",
       "    <tr style=\"text-align: right;\">\n",
       "      <th></th>\n",
       "      <th>Date</th>\n",
       "      <th>Monthly Mean Total Sunspot Number</th>\n",
       "    </tr>\n",
       "  </thead>\n",
       "  <tbody>\n",
       "    <tr>\n",
       "      <th>0</th>\n",
       "      <td>1749-01-31</td>\n",
       "      <td>96.7</td>\n",
       "    </tr>\n",
       "    <tr>\n",
       "      <th>1</th>\n",
       "      <td>1749-02-28</td>\n",
       "      <td>104.3</td>\n",
       "    </tr>\n",
       "    <tr>\n",
       "      <th>2</th>\n",
       "      <td>1749-03-31</td>\n",
       "      <td>116.7</td>\n",
       "    </tr>\n",
       "    <tr>\n",
       "      <th>3</th>\n",
       "      <td>1749-04-30</td>\n",
       "      <td>92.8</td>\n",
       "    </tr>\n",
       "    <tr>\n",
       "      <th>4</th>\n",
       "      <td>1749-05-31</td>\n",
       "      <td>141.7</td>\n",
       "    </tr>\n",
       "  </tbody>\n",
       "</table>\n",
       "</div>"
      ],
      "text/plain": [
       "         Date  Monthly Mean Total Sunspot Number\n",
       "0  1749-01-31                               96.7\n",
       "1  1749-02-28                              104.3\n",
       "2  1749-03-31                              116.7\n",
       "3  1749-04-30                               92.8\n",
       "4  1749-05-31                              141.7"
      ]
     },
     "execution_count": 6,
     "metadata": {},
     "output_type": "execute_result"
    }
   ],
   "source": [
    "sunspot.head()"
   ]
  },
  {
   "cell_type": "code",
   "execution_count": null,
   "metadata": {
    "id": "HA6bNUm57XaV"
   },
   "outputs": [],
   "source": []
  },
  {
   "cell_type": "markdown",
   "metadata": {
    "id": "1fmHx9Q19Hny"
   },
   "source": [
    "__SARIMA(p, d, q)(P, D, Q, s):__"
   ]
  },
  {
   "cell_type": "markdown",
   "metadata": {
    "id": "HqgJ1KcY980r"
   },
   "source": [
    "* __Autoregression - AR(p):__\n",
    "Y = B0 + B1*Y_lag1 + B2*Y_lag2 + ... + Bn*Y_lagn"
   ]
  },
  {
   "cell_type": "markdown",
   "metadata": {
    "id": "wfVy_1BT-7-C"
   },
   "source": [
    "* __Moving Average - MA(q):__ Y = B0 + B1*E_lag1 + B2*E_lag2 + ... + Bn*E_lagn"
   ]
  },
  {
   "cell_type": "markdown",
   "metadata": {
    "id": "UhrDDV70-iXi"
   },
   "source": [
    "* __Integrated - (d)__: Y_forward1 - Y = B0 + B1*(Y - Y_lag1) + B2*(Y_lag1 - Y_lag2) +.."
   ]
  },
  {
   "cell_type": "markdown",
   "metadata": {
    "id": "hPWVXxuYFTCS"
   },
   "source": [
    "__Example: ARMA(1,0,1)__\n",
    "\n",
    "yt = 0.5 * yt −1 + 0.2 * ϵt−1 + ϵt"
   ]
  },
  {
   "cell_type": "code",
   "execution_count": null,
   "metadata": {
    "id": "gSTbJvyg7Zl7"
   },
   "outputs": [],
   "source": []
  },
  {
   "cell_type": "code",
   "execution_count": null,
   "metadata": {
    "id": "E60fiOAp7ZwF"
   },
   "outputs": [],
   "source": []
  },
  {
   "cell_type": "code",
   "execution_count": null,
   "metadata": {
    "id": "Voiqc-_j7Z-v"
   },
   "outputs": [],
   "source": []
  },
  {
   "cell_type": "markdown",
   "metadata": {
    "id": "jS06euiL5PGB"
   },
   "source": [
    "# Task Two: Stationarity and ADF Test"
   ]
  },
  {
   "cell_type": "markdown",
   "metadata": {
    "id": "1v0vWvVq_gTc"
   },
   "source": [
    "\n",
    "- Time Series is said to be stationary if its statistical properties such as mean, variance remain constant over time \n",
    "- ADF : The augmented Dicky-Fuller test:\n",
    "\n",
    " Null Hypothesis: Series is not stationary\n",
    "\n",
    " Alternate Hypothesis: Series is stationary"
   ]
  },
  {
   "cell_type": "code",
   "execution_count": null,
   "metadata": {
    "id": "y-a6tmPi7c8M"
   },
   "outputs": [],
   "source": []
  },
  {
   "cell_type": "code",
   "execution_count": null,
   "metadata": {
    "id": "BkA4fxdU7dEf"
   },
   "outputs": [],
   "source": []
  },
  {
   "cell_type": "code",
   "execution_count": null,
   "metadata": {
    "id": "tiz49pdN7dPU"
   },
   "outputs": [],
   "source": []
  },
  {
   "cell_type": "markdown",
   "metadata": {
    "id": "MRwWnFg1ADRZ"
   },
   "source": [
    "__Result:__ \n",
    "\n",
    "* 0th element is test statistic ,more negative means more likely to be stationary\n",
    "\n",
    "* 1st element is p-value\n",
    "If p-value is small→reject null hypothesis. Reject non-stationary.\n",
    "\n",
    "* 2nd lags used\n",
    "\n",
    "* 3d num of observations\n",
    "\n",
    "* 4th element is the critical test statistics"
   ]
  },
  {
   "cell_type": "markdown",
   "metadata": {
    "id": "oAvEgDmMAtcQ"
   },
   "source": [
    "__Making a time series stationary:__\n",
    "Taking the difference Δyt = yt − yt−1"
   ]
  },
  {
   "cell_type": "code",
   "execution_count": null,
   "metadata": {
    "id": "lPMLlKIOMRLL"
   },
   "outputs": [],
   "source": [
    "#df_stationary = df.diff()"
   ]
  },
  {
   "cell_type": "code",
   "execution_count": null,
   "metadata": {
    "id": "KlOodumidVTn"
   },
   "outputs": [],
   "source": [
    "#df_stationary = df.diff().dropna()"
   ]
  },
  {
   "cell_type": "markdown",
   "metadata": {
    "id": "iDRKaIbPBLmd"
   },
   "source": [
    "__Examples of other transforms:__\n",
    "\n",
    "Take the log\n",
    "np.log(df)\n",
    "\n",
    "Take the square root\n",
    "np.sqrt(df)\n",
    "\n",
    "Take the proportional change\n",
    "df.shift(1)/df"
   ]
  },
  {
   "cell_type": "markdown",
   "metadata": {
    "id": "EGYoWiNQ5S9m"
   },
   "source": [
    "# Task Three: Autocorrelation, ACF and PACF\n"
   ]
  },
  {
   "cell_type": "markdown",
   "metadata": {
    "id": "5_7-4yyIFXlY"
   },
   "source": [
    "__ACF:__ Autocorrelation Function\n",
    "\n",
    "__PACF:__  Partial autocorrelation function"
   ]
  },
  {
   "cell_type": "code",
   "execution_count": null,
   "metadata": {
    "id": "VkgxArfLFwME"
   },
   "outputs": [],
   "source": []
  },
  {
   "cell_type": "code",
   "execution_count": null,
   "metadata": {
    "id": "glYw2_vaGAIq"
   },
   "outputs": [],
   "source": []
  },
  {
   "cell_type": "code",
   "execution_count": null,
   "metadata": {
    "id": "2Virl3NWGAfM"
   },
   "outputs": [],
   "source": []
  },
  {
   "cell_type": "markdown",
   "metadata": {
    "id": "oR8FjJup5Wy3"
   },
   "source": [
    "# Task Four: ARIMA Model"
   ]
  },
  {
   "cell_type": "code",
   "execution_count": null,
   "metadata": {
    "id": "MkAWAgte7okE"
   },
   "outputs": [],
   "source": []
  },
  {
   "cell_type": "code",
   "execution_count": null,
   "metadata": {
    "id": "sTpd4LsM7orY"
   },
   "outputs": [],
   "source": []
  },
  {
   "cell_type": "code",
   "execution_count": null,
   "metadata": {
    "id": "TdXivKdS7owL"
   },
   "outputs": [],
   "source": []
  },
  {
   "cell_type": "code",
   "execution_count": null,
   "metadata": {
    "id": "I4xq1aoi7ozd"
   },
   "outputs": [],
   "source": []
  },
  {
   "cell_type": "code",
   "execution_count": null,
   "metadata": {
    "id": "u_PwYxRH7o3d"
   },
   "outputs": [],
   "source": []
  },
  {
   "cell_type": "code",
   "execution_count": null,
   "metadata": {
    "id": "xhTHPtsc7o8S"
   },
   "outputs": [],
   "source": []
  },
  {
   "cell_type": "code",
   "execution_count": null,
   "metadata": {
    "id": "GXkVBLt_7o-p"
   },
   "outputs": [],
   "source": []
  },
  {
   "cell_type": "markdown",
   "metadata": {
    "id": "20IxKlqqFxIC"
   },
   "source": [
    "__AIC - Akaike information criterion__\n",
    "\n",
    "Lower AIC indicates a better model\n",
    "\n",
    "AIC likes to choose simple models with lower order"
   ]
  },
  {
   "cell_type": "markdown",
   "metadata": {
    "id": "zCDczuFeF2Z4"
   },
   "source": [
    "__BIC - Bayesian information criterion__\n",
    "\n",
    "\n",
    "Lower BIC indicates a better model\n",
    "\n",
    "BIC likes to choose simple models with lower order"
   ]
  },
  {
   "cell_type": "code",
   "execution_count": null,
   "metadata": {
    "id": "__XH0XnT5Zog"
   },
   "outputs": [],
   "source": [
    "import matplotlib as mpl\n",
    "\n",
    "mpl.rcParams['figure.figsize'] = (18, 7)\n",
    "mpl.rcParams['axes.grid'] = False\n",
    "\n",
    "# plot\n",
    "plt.plot(Test,color='black',linewidth=1)\n",
    "plt.plot(lower_list,color='red',linewidth=1)\n",
    "plt.plot(upper_list,color='green',linewidth=1)\n",
    "plt.plot(predictions,linewidth=1)\n",
    "plt.show()"
   ]
  },
  {
   "cell_type": "code",
   "execution_count": null,
   "metadata": {
    "id": "Lh-s1uUQ5Z2J"
   },
   "outputs": [],
   "source": []
  },
  {
   "cell_type": "markdown",
   "metadata": {
    "id": "jSAVIWYd5aKm"
   },
   "source": [
    "# Task Five: ARIMA Automation"
   ]
  },
  {
   "cell_type": "code",
   "execution_count": null,
   "metadata": {
    "id": "iefaVmiiG9be"
   },
   "outputs": [],
   "source": []
  },
  {
   "cell_type": "code",
   "execution_count": null,
   "metadata": {
    "id": "PIpcwOzl74MA"
   },
   "outputs": [],
   "source": []
  },
  {
   "cell_type": "code",
   "execution_count": null,
   "metadata": {
    "id": "o8jPR48j74Vb"
   },
   "outputs": [],
   "source": []
  }
 ],
 "metadata": {
  "colab": {
   "collapsed_sections": [],
   "name": "ARIMA.ipynb",
   "provenance": [],
   "toc_visible": true
  },
  "kernelspec": {
   "display_name": "Python 3",
   "language": "python",
   "name": "python3"
  },
  "language_info": {
   "codemirror_mode": {
    "name": "ipython",
    "version": 3
   },
   "file_extension": ".py",
   "mimetype": "text/x-python",
   "name": "python",
   "nbconvert_exporter": "python",
   "pygments_lexer": "ipython3",
   "version": "3.7.6"
  }
 },
 "nbformat": 4,
 "nbformat_minor": 1
}
