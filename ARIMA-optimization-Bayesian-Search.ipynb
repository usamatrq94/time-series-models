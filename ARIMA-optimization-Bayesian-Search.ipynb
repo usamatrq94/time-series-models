{
 "cells": [
  {
   "cell_type": "code",
   "execution_count": 40,
   "id": "partial-charge",
   "metadata": {},
   "outputs": [],
   "source": [
    "from math import sin\n",
    "from math import pi\n",
    "import numpy as np\n",
    "from numpy.random import normal\n",
    "import matplotlib.pyplot as plt\n",
    "from numpy import argmax\n",
    "from sklearn.gaussian_process import GaussianProcessRegressor"
   ]
  },
  {
   "cell_type": "code",
   "execution_count": 4,
   "id": "ahead-entertainment",
   "metadata": {},
   "outputs": [],
   "source": [
    "# the objective function\n",
    "def objective(x, noise=0.1):\n",
    "    noise = normal(loc=0, scale=noise)\n",
    "    return (x**2 * sin(5 * pi * x)**6.0) + noise"
   ]
  },
  {
   "cell_type": "code",
   "execution_count": 12,
   "id": "sitting-brush",
   "metadata": {},
   "outputs": [],
   "source": [
    "# defining a grid based sample of the domain [0,1]\n",
    "X = np.arange(0,1,0.01)"
   ]
  },
  {
   "cell_type": "code",
   "execution_count": 23,
   "id": "blocked-cartridge",
   "metadata": {},
   "outputs": [],
   "source": [
    "# sample the domain without noise\n",
    "y  = [objective(x, 0) for x in X]"
   ]
  },
  {
   "cell_type": "code",
   "execution_count": 24,
   "id": "fancy-halloween",
   "metadata": {},
   "outputs": [],
   "source": [
    "# sample the domain with noise\n",
    "ynoise = [objective(x) for x in X]"
   ]
  },
  {
   "cell_type": "code",
   "execution_count": 32,
   "id": "consistent-language",
   "metadata": {},
   "outputs": [
    {
     "name": "stdout",
     "output_type": "stream",
     "text": [
      "Optimal: x = 0.9, y = 0.81\n"
     ]
    }
   ],
   "source": [
    "# find the best result\n",
    "xi = argmax(y)\n",
    "print(f\"Optimal: x = {X[xi]}, y = {y[xi]}\")"
   ]
  },
  {
   "cell_type": "code",
   "execution_count": 38,
   "id": "attempted-school",
   "metadata": {},
   "outputs": [
    {
     "data": {
      "image/png": "[encoded data removed]",
      "text/plain": [
       "<Figure size 432x288 with 1 Axes>"
      ]
     },
     "metadata": {
      "needs_background": "light"
     },
     "output_type": "display_data"
    }
   ],
   "source": [
    "# plot the points with noise\n",
    "plt.scatter(X, ynoise, c='orange')\n",
    "plt.plot(X, y)\n",
    "plt.show()"
   ]
  },
  {
   "cell_type": "code",
   "execution_count": 41,
   "id": "earlier-marriage",
   "metadata": {},
   "outputs": [],
   "source": [
    "# Surrogate Function\n",
    "# transforms input examples into output score\n",
    "# probabilistically it is the conditional probability of an \n",
    "# objective function(f), given the available data (D) or\n",
    "# P(f|D)\n",
    "\n",
    "# Define the model\n",
    "model = GaussianProcessRegressor()"
   ]
  },
  {
   "cell_type": "code",
   "execution_count": 67,
   "id": "aerial-husband",
   "metadata": {},
   "outputs": [
    {
     "data": {
      "text/plain": [
       "GaussianProcessRegressor()"
      ]
     },
     "execution_count": 67,
     "metadata": {},
     "output_type": "execute_result"
    }
   ],
   "source": [
    "# fit the model\n",
    "X = X.reshape(100,1)\n",
    "model.fit(X, y)"
   ]
  },
  {
   "cell_type": "code",
   "execution_count": 68,
   "id": "another-present",
   "metadata": {},
   "outputs": [
    {
     "name": "stderr",
     "output_type": "stream",
     "text": [
      "C:\\Users\\usama\\anaconda3\\envs\\Heroku\\lib\\site-packages\\sklearn\\gaussian_process\\_gpr.py:375: UserWarning: Predicted variances smaller than 0. Setting those variances to 0.\n",
      "  warnings.warn(\"Predicted variances smaller than 0. \"\n"
     ]
    }
   ],
   "source": [
    "yhat = model.predict(X, return_std=True)"
   ]
  },
  {
   "cell_type": "code",
   "execution_count": 71,
   "id": "wanted-drove",
   "metadata": {},
   "outputs": [],
   "source": [
    "# surrogate or opproximation for the objective function\n",
    "def surrogate(model, X):\n",
    "    # catch any warning generated when making a prediction\n",
    "    with catch_warnings():\n",
    "        # ignore generated warnings\n",
    "        simplefilter(\"ignore\")\n",
    "        return model.predict(X, return_std=True)"
   ]
  },
  {
   "cell_type": "code",
   "execution_count": null,
   "id": "acknowledged-isolation",
   "metadata": {},
   "outputs": [],
   "source": [
    "# plot real observations vs surrogate function\n",
    "def plot(X, y, model):\n",
    "    # scatter plot of inputs and real objective function\n",
    "    plt.scatter(X,y)\n",
    "    # line plot of surrogte function cross domain\n",
    "    Xsamples = asarray(arange(0,1,0.001))\n",
    "    Xsamples = Xsamples.reshape(len(Xsamples),1)\n",
    "    Xsamples, _ = surrogate(model, Xsamples)\n",
    "    plt.plot(Xsamples, ysamples)\n",
    "    # show "
   ]
  }
 ],
 "metadata": {
  "kernelspec": {
   "display_name": "Heroku",
   "language": "python",
   "name": "heroku"
  },
  "language_info": {
   "codemirror_mode": {
    "name": "ipython",
    "version": 3
   },
   "file_extension": ".py",
   "mimetype": "text/x-python",
   "name": "python",
   "nbconvert_exporter": "python",
   "pygments_lexer": "ipython3",
   "version": "3.8.6"
  }
 },
 "nbformat": 4,
 "nbformat_minor": 5
}
